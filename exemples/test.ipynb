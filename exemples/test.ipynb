{
 "cells": [
  {
   "cell_type": "code",
   "execution_count": 49,
   "metadata": {
    "collapsed": true,
    "pycharm": {
     "name": "#%%\n"
    }
   },
   "outputs": [],
   "source": [
    "import os\n",
    "import decimal\n",
    "import pdfplumber\n",
    "import re\n",
    "\n",
    "regex = re.compile(r\"\\n\\s*Étape\\s*(\\d+)\\s*\\n\")\n",
    "\n",
    "name=\"TP_03\"\n",
    "dirRes=name\n",
    "os.makedirs(dirRes)\n",
    "with pdfplumber.open(name+\".pdf\") as pdf:\n",
    "    lastEtape=0\n",
    "    subEtape=0\n",
    "    for page in pdf.pages:\n",
    "        datas=page.horizontal_edges\n",
    "        point=None\n",
    "        matches = regex.finditer(str(page.extract_text()))\n",
    "        matches=[[e.start(),e.group(1)] for e in matches]\n",
    "        iM=0\n",
    "        for e in datas:\n",
    "            if float(e[\"width\"]) == 508.950:\n",
    "                if point and float(e[\"top\"]) - float(point) > 50:\n",
    "                    if matches:\n",
    "                        while iM<len(matches) and point<page.chars[matches[iM][0]][\"y0\"]:\n",
    "                            lastEtape=int(matches[iM][1])\n",
    "                            iM+=1\n",
    "                            subEtape=0\n",
    "                    subEtape+=1\n",
    "                    d2=(e[\"x0\"],point, e[\"x0\"]+decimal.Decimal(508.950),e['bottom'])\n",
    "                    with open(f\"{dirRes}/{name}_Etape{lastEtape}_{subEtape}.asm\",'w') as f:\n",
    "                        f.write(page.within_bbox(d2, relative=False).extract_text())\n",
    "                    point=None\n",
    "                else:\n",
    "                    point=e[\"top\"]"
   ]
  },
  {
   "cell_type": "code",
   "execution_count": 52,
   "outputs": [
    {
     "name": "stdout",
     "output_type": "stream",
     "text": [
      "{'x0': Decimal('551.400'), 'y0': Decimal('582.789'), 'x1': Decimal('552.750'), 'y1': Decimal('582.789'), 'width': Decimal('1.350'), 'height': Decimal('0'), 'pts': [(Decimal('551.400'), Decimal('569.239')), (Decimal('552.750'), Decimal('569.239')), (Decimal('552.750'), Decimal('582.789')), (Decimal('551.400'), Decimal('582.789'))], 'linewidth': Decimal('0.100'), 'stroke': False, 'fill': True, 'evenodd': True, 'stroking_color': None, 'non_stroking_color': (0, 0, 0), 'object_type': 'rect_edge', 'page_number': 10, 'top': Decimal('259.101'), 'bottom': Decimal('259.101'), 'doctop': Decimal('7836.111'), 'orientation': 'h'}\n",
      "{'x0': Decimal('551.400'), 'y0': Decimal('569.239'), 'x1': Decimal('552.750'), 'y1': Decimal('569.239'), 'width': Decimal('1.350'), 'height': Decimal('0'), 'pts': [(Decimal('551.400'), Decimal('569.239')), (Decimal('552.750'), Decimal('569.239')), (Decimal('552.750'), Decimal('582.789')), (Decimal('551.400'), Decimal('582.789'))], 'linewidth': Decimal('0.100'), 'stroke': False, 'fill': True, 'evenodd': True, 'stroking_color': None, 'non_stroking_color': (0, 0, 0), 'object_type': 'rect_edge', 'page_number': 10, 'top': Decimal('272.651'), 'bottom': Decimal('272.651'), 'doctop': Decimal('7849.661'), 'orientation': 'h'}\n",
      "{'x0': Decimal('43.800'), 'y0': Decimal('554.389'), 'x1': Decimal('552.750'), 'y1': Decimal('554.389'), 'width': Decimal('508.950'), 'height': Decimal('0'), 'pts': [(Decimal('43.800'), Decimal('553.039')), (Decimal('552.750'), Decimal('553.039')), (Decimal('552.750'), Decimal('554.389')), (Decimal('43.800'), Decimal('554.389'))], 'linewidth': Decimal('0.100'), 'stroke': False, 'fill': True, 'evenodd': True, 'stroking_color': None, 'non_stroking_color': (0, 0, 0), 'object_type': 'rect_edge', 'page_number': 10, 'top': Decimal('287.501'), 'bottom': Decimal('287.501'), 'doctop': Decimal('7864.511'), 'orientation': 'h'}\n",
      "{'x0': Decimal('43.800'), 'y0': Decimal('553.039'), 'x1': Decimal('552.750'), 'y1': Decimal('553.039'), 'width': Decimal('508.950'), 'height': Decimal('0'), 'pts': [(Decimal('43.800'), Decimal('553.039')), (Decimal('552.750'), Decimal('553.039')), (Decimal('552.750'), Decimal('554.389')), (Decimal('43.800'), Decimal('554.389'))], 'linewidth': Decimal('0.100'), 'stroke': False, 'fill': True, 'evenodd': True, 'stroking_color': None, 'non_stroking_color': (0, 0, 0), 'object_type': 'rect_edge', 'page_number': 10, 'top': Decimal('288.851'), 'bottom': Decimal('288.851'), 'doctop': Decimal('7865.861'), 'orientation': 'h'}\n",
      "{'x0': Decimal('551.400'), 'y0': Decimal('569.239'), 'x1': Decimal('552.750'), 'y1': Decimal('569.239'), 'width': Decimal('1.350'), 'height': Decimal('0'), 'pts': [(Decimal('551.400'), Decimal('554.339')), (Decimal('552.750'), Decimal('554.339')), (Decimal('552.750'), Decimal('569.239')), (Decimal('551.400'), Decimal('569.239'))], 'linewidth': Decimal('0.100'), 'stroke': False, 'fill': True, 'evenodd': True, 'stroking_color': None, 'non_stroking_color': (0, 0, 0), 'object_type': 'rect_edge', 'page_number': 10, 'top': Decimal('272.651'), 'bottom': Decimal('272.651'), 'doctop': Decimal('7849.661'), 'orientation': 'h'}\n",
      "{'x0': Decimal('551.400'), 'y0': Decimal('554.339'), 'x1': Decimal('552.750'), 'y1': Decimal('554.339'), 'width': Decimal('1.350'), 'height': Decimal('0'), 'pts': [(Decimal('551.400'), Decimal('554.339')), (Decimal('552.750'), Decimal('554.339')), (Decimal('552.750'), Decimal('569.239')), (Decimal('551.400'), Decimal('569.239'))], 'linewidth': Decimal('0.100'), 'stroke': False, 'fill': True, 'evenodd': True, 'stroking_color': None, 'non_stroking_color': (0, 0, 0), 'object_type': 'rect_edge', 'page_number': 10, 'top': Decimal('287.551'), 'bottom': Decimal('287.551'), 'doctop': Decimal('7864.561'), 'orientation': 'h'}\n",
      "{'x0': Decimal('42.500'), 'y0': Decimal('767.889'), 'x1': Decimal('80.600'), 'y1': Decimal('767.889'), 'width': Decimal('38.100'), 'height': Decimal('0'), 'pts': [(Decimal('42.500'), Decimal('767.889')), (Decimal('80.600'), Decimal('767.889'))], 'linewidth': Decimal('0.800'), 'stroke': True, 'fill': False, 'evenodd': False, 'stroking_color': (0, 0, 0), 'non_stroking_color': (0, 0, 0), 'object_type': 'line', 'page_number': 10, 'top': Decimal('74.001'), 'bottom': Decimal('74.001'), 'doctop': Decimal('7651.011'), 'orientation': 'h'}\n",
      "{'x0': Decimal('80.600'), 'y0': Decimal('767.889'), 'x1': Decimal('84.500'), 'y1': Decimal('767.889'), 'width': Decimal('3.900'), 'height': Decimal('0'), 'pts': [(Decimal('80.600'), Decimal('767.889')), (Decimal('84.500'), Decimal('767.889'))], 'linewidth': Decimal('0.800'), 'stroke': True, 'fill': False, 'evenodd': False, 'stroking_color': (0, 0, 0), 'non_stroking_color': (0, 0, 0), 'object_type': 'line', 'page_number': 10, 'top': Decimal('74.001'), 'bottom': Decimal('74.001'), 'doctop': Decimal('7651.011'), 'orientation': 'h'}\n",
      "{'x0': Decimal('84.500'), 'y0': Decimal('767.889'), 'x1': Decimal('92.300'), 'y1': Decimal('767.889'), 'width': Decimal('7.800'), 'height': Decimal('0'), 'pts': [(Decimal('84.500'), Decimal('767.889')), (Decimal('92.300'), Decimal('767.889'))], 'linewidth': Decimal('0.800'), 'stroke': True, 'fill': False, 'evenodd': False, 'stroking_color': (0, 0, 0), 'non_stroking_color': (0, 0, 0), 'object_type': 'line', 'page_number': 10, 'top': Decimal('74.001'), 'bottom': Decimal('74.001'), 'doctop': Decimal('7651.011'), 'orientation': 'h'}\n",
      "{'x0': Decimal('42.600'), 'y0': Decimal('687.589'), 'x1': Decimal('73.900'), 'y1': Decimal('687.589'), 'width': Decimal('31.300'), 'height': Decimal('0'), 'pts': [(Decimal('42.600'), Decimal('687.589')), (Decimal('73.900'), Decimal('687.589'))], 'linewidth': Decimal('0.700'), 'stroke': True, 'fill': False, 'evenodd': False, 'stroking_color': (0, 0, 0), 'non_stroking_color': (0, 0, 0), 'object_type': 'line', 'page_number': 10, 'top': Decimal('154.301'), 'bottom': Decimal('154.301'), 'doctop': Decimal('7731.311'), 'orientation': 'h'}\n",
      "{'x0': Decimal('42.600'), 'y0': Decimal('671.089'), 'x1': Decimal('71.300'), 'y1': Decimal('671.089'), 'width': Decimal('28.700'), 'height': Decimal('0'), 'pts': [(Decimal('42.600'), Decimal('671.089')), (Decimal('71.300'), Decimal('671.089'))], 'linewidth': Decimal('0.700'), 'stroke': True, 'fill': False, 'evenodd': False, 'stroking_color': (0, 0, 0), 'non_stroking_color': (0, 0, 0), 'object_type': 'line', 'page_number': 10, 'top': Decimal('170.801'), 'bottom': Decimal('170.801'), 'doctop': Decimal('7747.811'), 'orientation': 'h'}\n",
      "{'x0': Decimal('42.500'), 'y0': Decimal('785.389'), 'x1': Decimal('552.750'), 'y1': Decimal('785.389'), 'width': Decimal('510.250'), 'height': Decimal('0'), 'pts': [(Decimal('552.750'), Decimal('785.389')), (Decimal('42.500'), Decimal('785.389'))], 'linewidth': Decimal('0.500'), 'stroke': True, 'fill': False, 'evenodd': False, 'stroking_color': (0, 0, 0), 'non_stroking_color': (0, 0, 0), 'object_type': 'line', 'page_number': 10, 'top': Decimal('56.501'), 'bottom': Decimal('56.501'), 'doctop': Decimal('7633.511'), 'orientation': 'h'}\n",
      "{'x0': Decimal('42.500'), 'y0': Decimal('583.589'), 'x1': Decimal('551.450'), 'y1': Decimal('583.589'), 'width': Decimal('508.950'), 'height': Decimal('0'), 'pts': [(Decimal('42.500'), Decimal('583.589')), (Decimal('551.450'), Decimal('583.589'))], 'linewidth': Decimal('1'), 'stroke': True, 'fill': False, 'evenodd': False, 'stroking_color': (0.29803, 0.29803, 0.29803), 'non_stroking_color': (0, 0, 0), 'object_type': 'line', 'page_number': 10, 'top': Decimal('258.301'), 'bottom': Decimal('258.301'), 'doctop': Decimal('7835.311'), 'orientation': 'h'}\n",
      "{'x0': Decimal('42.500'), 'y0': Decimal('554.839'), 'x1': Decimal('551.450'), 'y1': Decimal('554.839'), 'width': Decimal('508.950'), 'height': Decimal('0'), 'pts': [(Decimal('551.450'), Decimal('554.839')), (Decimal('42.500'), Decimal('554.839'))], 'linewidth': Decimal('1'), 'stroke': True, 'fill': False, 'evenodd': False, 'stroking_color': (0.29803, 0.29803, 0.29803), 'non_stroking_color': (0, 0, 0), 'object_type': 'line', 'page_number': 10, 'top': Decimal('287.051'), 'bottom': Decimal('287.051'), 'doctop': Decimal('7864.061'), 'orientation': 'h'}\n",
      "{'x0': Decimal('42.500'), 'y0': Decimal('56.539'), 'x1': Decimal('552.750'), 'y1': Decimal('56.539'), 'width': Decimal('510.250'), 'height': Decimal('0'), 'pts': [(Decimal('42.500'), Decimal('56.539')), (Decimal('552.750'), Decimal('56.539'))], 'linewidth': Decimal('0.500'), 'stroke': True, 'fill': False, 'evenodd': False, 'stroking_color': (0, 0, 0), 'non_stroking_color': (0, 0, 0), 'object_type': 'line', 'page_number': 10, 'top': Decimal('785.351'), 'bottom': Decimal('785.351'), 'doctop': Decimal('8362.361'), 'orientation': 'h'}\n"
     ]
    }
   ],
   "source": [
    "with pdfplumber.open(\"TP_03.pdf\") as pdf:\n",
    "    page=pdf.pages[9]\n",
    "    datas=page.horizontal_edges\n",
    "    point=None\n",
    "    for e in datas:\n",
    "        print(e)\n",
    "        if float(e[\"width\"]) == 508.950:\n",
    "            if point and float(e[\"top\"]) - float(point) > 50:\n",
    "                subEtape+=1\n",
    "                d2=(e[\"x0\"],point, e[\"x0\"]+decimal.Decimal(508.950),e['bottom'])\n",
    "                print(d2)\n",
    "                point=None\n",
    "            else:\n",
    "                point=e[\"top\"]"
   ],
   "metadata": {
    "collapsed": false,
    "pycharm": {
     "name": "#%%\n"
    }
   }
  }
 ],
 "metadata": {
  "kernelspec": {
   "display_name": "Python 3",
   "language": "python",
   "name": "python3"
  },
  "language_info": {
   "codemirror_mode": {
    "name": "ipython",
    "version": 2
   },
   "file_extension": ".py",
   "mimetype": "text/x-python",
   "name": "python",
   "nbconvert_exporter": "python",
   "pygments_lexer": "ipython2",
   "version": "2.7.6"
  }
 },
 "nbformat": 4,
 "nbformat_minor": 0
}